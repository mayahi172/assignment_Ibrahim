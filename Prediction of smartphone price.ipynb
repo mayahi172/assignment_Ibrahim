{
 "cells": [
  {
   "cell_type": "code",
   "execution_count": 50,
   "id": "f5e82aac",
   "metadata": {},
   "outputs": [],
   "source": [
    "import numpy as np\n",
    "import pandas as pd\n",
    "import seaborn as sns\n",
    "import matplotlib.pyplot as plt\n",
    "from sklearn.linear_model import LinearRegression\n",
    "from sklearn.metrics import mean_squared_error,mean_absolute_error\n",
    "from sklearn.ensemble import RandomForestRegressor\n",
    "import warnings\n",
    "from scipy import stats\n",
    "warnings.filterwarnings(\"ignore\")"
   ]
  },
  {
   "cell_type": "code",
   "execution_count": 51,
   "id": "68841fda",
   "metadata": {},
   "outputs": [
    {
     "data": {
      "text/html": [
       "<div>\n",
       "<style scoped>\n",
       "    .dataframe tbody tr th:only-of-type {\n",
       "        vertical-align: middle;\n",
       "    }\n",
       "\n",
       "    .dataframe tbody tr th {\n",
       "        vertical-align: top;\n",
       "    }\n",
       "\n",
       "    .dataframe thead th {\n",
       "        text-align: right;\n",
       "    }\n",
       "</style>\n",
       "<table border=\"1\" class=\"dataframe\">\n",
       "  <thead>\n",
       "    <tr style=\"text-align: right;\">\n",
       "      <th></th>\n",
       "      <th>sku_name</th>\n",
       "      <th>product_id</th>\n",
       "      <th>merchant_code</th>\n",
       "      <th>merchant_badge</th>\n",
       "      <th>product_type</th>\n",
       "      <th>merchant_city</th>\n",
       "      <th>cod</th>\n",
       "      <th>price</th>\n",
       "      <th>stock</th>\n",
       "      <th>daily_gmv</th>\n",
       "      <th>daily_sold</th>\n",
       "      <th>daily_view</th>\n",
       "      <th>rating</th>\n",
       "      <th>total_review</th>\n",
       "      <th>total_sold</th>\n",
       "    </tr>\n",
       "  </thead>\n",
       "  <tbody>\n",
       "    <tr>\n",
       "      <th>0</th>\n",
       "      <td>HUAWEI NOVA 5T RAM 8GB INTERNAL 128GB</td>\n",
       "      <td>E1</td>\n",
       "      <td>1.0</td>\n",
       "      <td>PM</td>\n",
       "      <td>Huawei nova 5T</td>\n",
       "      <td>Kota Kediri</td>\n",
       "      <td>False</td>\n",
       "      <td>4500000.0</td>\n",
       "      <td>1.0</td>\n",
       "      <td>0.0</td>\n",
       "      <td>0.0</td>\n",
       "      <td>0.0</td>\n",
       "      <td>95.0</td>\n",
       "      <td>37.0</td>\n",
       "      <td>74.0</td>\n",
       "    </tr>\n",
       "    <tr>\n",
       "      <th>1</th>\n",
       "      <td>Huawei Nova 5T (8GB/128GB) - Crush Green</td>\n",
       "      <td>F1</td>\n",
       "      <td>2.0</td>\n",
       "      <td>OS</td>\n",
       "      <td>Huawei nova 5T</td>\n",
       "      <td>Kota Administrasi Jakarta Utara</td>\n",
       "      <td>False</td>\n",
       "      <td>4999000.0</td>\n",
       "      <td>5.0</td>\n",
       "      <td>0.0</td>\n",
       "      <td>0.0</td>\n",
       "      <td>0.0</td>\n",
       "      <td>0.0</td>\n",
       "      <td>0.0</td>\n",
       "      <td>2.0</td>\n",
       "    </tr>\n",
       "    <tr>\n",
       "      <th>2</th>\n",
       "      <td>HUAWEI NOVA 5T RAM 8/128 GARANSI RESMI HUAWEI ...</td>\n",
       "      <td>F2</td>\n",
       "      <td>3.0</td>\n",
       "      <td>PM</td>\n",
       "      <td>Huawei nova 5T</td>\n",
       "      <td>Kota Administrasi Jakarta Barat</td>\n",
       "      <td>False</td>\n",
       "      <td>4589900.0</td>\n",
       "      <td>16.0</td>\n",
       "      <td>0.0</td>\n",
       "      <td>0.0</td>\n",
       "      <td>0.0</td>\n",
       "      <td>96.0</td>\n",
       "      <td>12.0</td>\n",
       "      <td>19.0</td>\n",
       "    </tr>\n",
       "    <tr>\n",
       "      <th>3</th>\n",
       "      <td>HUAWEI NOVA 5T RAM 8/128GB GARANSI RESMI HUAWE...</td>\n",
       "      <td>E2</td>\n",
       "      <td>4.0</td>\n",
       "      <td>OS</td>\n",
       "      <td>Huawei nova 5T</td>\n",
       "      <td>Kota Surabaya</td>\n",
       "      <td>False</td>\n",
       "      <td>4698500.0</td>\n",
       "      <td>5.0</td>\n",
       "      <td>0.0</td>\n",
       "      <td>0.0</td>\n",
       "      <td>0.0</td>\n",
       "      <td>99.0</td>\n",
       "      <td>42.0</td>\n",
       "      <td>63.0</td>\n",
       "    </tr>\n",
       "    <tr>\n",
       "      <th>4</th>\n",
       "      <td>nokia 3310 reborn</td>\n",
       "      <td>C1</td>\n",
       "      <td>5.0</td>\n",
       "      <td>RM</td>\n",
       "      <td>Nokia 1</td>\n",
       "      <td>Kab. Bangkalan</td>\n",
       "      <td>True</td>\n",
       "      <td>1000000.0</td>\n",
       "      <td>999999.0</td>\n",
       "      <td>0.0</td>\n",
       "      <td>0.0</td>\n",
       "      <td>3.0</td>\n",
       "      <td>100.0</td>\n",
       "      <td>18.0</td>\n",
       "      <td>82.0</td>\n",
       "    </tr>\n",
       "  </tbody>\n",
       "</table>\n",
       "</div>"
      ],
      "text/plain": [
       "                                            sku_name product_id  \\\n",
       "0              HUAWEI NOVA 5T RAM 8GB INTERNAL 128GB         E1   \n",
       "1           Huawei Nova 5T (8GB/128GB) - Crush Green         F1   \n",
       "2  HUAWEI NOVA 5T RAM 8/128 GARANSI RESMI HUAWEI ...         F2   \n",
       "3  HUAWEI NOVA 5T RAM 8/128GB GARANSI RESMI HUAWE...         E2   \n",
       "4                                  nokia 3310 reborn         C1   \n",
       "\n",
       "   merchant_code merchant_badge    product_type  \\\n",
       "0            1.0             PM  Huawei nova 5T   \n",
       "1            2.0             OS  Huawei nova 5T   \n",
       "2            3.0             PM  Huawei nova 5T   \n",
       "3            4.0             OS  Huawei nova 5T   \n",
       "4            5.0             RM         Nokia 1   \n",
       "\n",
       "                     merchant_city    cod      price     stock  daily_gmv  \\\n",
       "0                      Kota Kediri  False  4500000.0       1.0        0.0   \n",
       "1  Kota Administrasi Jakarta Utara  False  4999000.0       5.0        0.0   \n",
       "2  Kota Administrasi Jakarta Barat  False  4589900.0      16.0        0.0   \n",
       "3                    Kota Surabaya  False  4698500.0       5.0        0.0   \n",
       "4                   Kab. Bangkalan   True  1000000.0  999999.0        0.0   \n",
       "\n",
       "   daily_sold  daily_view  rating  total_review  total_sold  \n",
       "0         0.0         0.0    95.0          37.0        74.0  \n",
       "1         0.0         0.0     0.0           0.0         2.0  \n",
       "2         0.0         0.0    96.0          12.0        19.0  \n",
       "3         0.0         0.0    99.0          42.0        63.0  \n",
       "4         0.0         3.0   100.0          18.0        82.0  "
      ]
     },
     "execution_count": 51,
     "metadata": {},
     "output_type": "execute_result"
    }
   ],
   "source": [
    "Sdataset=pd.read_csv(r'C:\\Users\\DELL\\Desktop\\SP\\Ibrahim\\marketplace.csv')\n",
    "Sdataset.head()"
   ]
  },
  {
   "cell_type": "code",
   "execution_count": 52,
   "id": "bd848a06",
   "metadata": {},
   "outputs": [
    {
     "data": {
      "text/plain": [
       "(26015, 15)"
      ]
     },
     "execution_count": 52,
     "metadata": {},
     "output_type": "execute_result"
    }
   ],
   "source": [
    "Sdataset.shape"
   ]
  },
  {
   "cell_type": "code",
   "execution_count": 53,
   "id": "5bdb855f",
   "metadata": {},
   "outputs": [
    {
     "data": {
      "text/html": [
       "<div>\n",
       "<style scoped>\n",
       "    .dataframe tbody tr th:only-of-type {\n",
       "        vertical-align: middle;\n",
       "    }\n",
       "\n",
       "    .dataframe tbody tr th {\n",
       "        vertical-align: top;\n",
       "    }\n",
       "\n",
       "    .dataframe thead th {\n",
       "        text-align: right;\n",
       "    }\n",
       "</style>\n",
       "<table border=\"1\" class=\"dataframe\">\n",
       "  <thead>\n",
       "    <tr style=\"text-align: right;\">\n",
       "      <th></th>\n",
       "      <th>sku_name</th>\n",
       "      <th>product_id</th>\n",
       "      <th>merchant_code</th>\n",
       "      <th>merchant_badge</th>\n",
       "      <th>product_type</th>\n",
       "      <th>merchant_city</th>\n",
       "      <th>cod</th>\n",
       "      <th>price</th>\n",
       "      <th>stock</th>\n",
       "      <th>daily_gmv</th>\n",
       "      <th>daily_sold</th>\n",
       "      <th>daily_view</th>\n",
       "      <th>rating</th>\n",
       "      <th>total_review</th>\n",
       "      <th>total_sold</th>\n",
       "    </tr>\n",
       "  </thead>\n",
       "  <tbody>\n",
       "    <tr>\n",
       "      <th>0</th>\n",
       "      <td>HUAWEI NOVA 5T RAM 8GB INTERNAL 128GB</td>\n",
       "      <td>E1</td>\n",
       "      <td>1.0</td>\n",
       "      <td>PM</td>\n",
       "      <td>Huawei nova 5T</td>\n",
       "      <td>Kota Kediri</td>\n",
       "      <td>False</td>\n",
       "      <td>4500000.0</td>\n",
       "      <td>1.0</td>\n",
       "      <td>0.0</td>\n",
       "      <td>0.0</td>\n",
       "      <td>0.0</td>\n",
       "      <td>95.0</td>\n",
       "      <td>37.0</td>\n",
       "      <td>74.0</td>\n",
       "    </tr>\n",
       "    <tr>\n",
       "      <th>1</th>\n",
       "      <td>Huawei Nova 5T (8GB/128GB) - Crush Green</td>\n",
       "      <td>F1</td>\n",
       "      <td>2.0</td>\n",
       "      <td>OS</td>\n",
       "      <td>Huawei nova 5T</td>\n",
       "      <td>Kota Administrasi Jakarta Utara</td>\n",
       "      <td>False</td>\n",
       "      <td>4999000.0</td>\n",
       "      <td>5.0</td>\n",
       "      <td>0.0</td>\n",
       "      <td>0.0</td>\n",
       "      <td>0.0</td>\n",
       "      <td>0.0</td>\n",
       "      <td>0.0</td>\n",
       "      <td>2.0</td>\n",
       "    </tr>\n",
       "    <tr>\n",
       "      <th>2</th>\n",
       "      <td>HUAWEI NOVA 5T RAM 8/128 GARANSI RESMI HUAWEI ...</td>\n",
       "      <td>F2</td>\n",
       "      <td>3.0</td>\n",
       "      <td>PM</td>\n",
       "      <td>Huawei nova 5T</td>\n",
       "      <td>Kota Administrasi Jakarta Barat</td>\n",
       "      <td>False</td>\n",
       "      <td>4589900.0</td>\n",
       "      <td>16.0</td>\n",
       "      <td>0.0</td>\n",
       "      <td>0.0</td>\n",
       "      <td>0.0</td>\n",
       "      <td>96.0</td>\n",
       "      <td>12.0</td>\n",
       "      <td>19.0</td>\n",
       "    </tr>\n",
       "    <tr>\n",
       "      <th>3</th>\n",
       "      <td>HUAWEI NOVA 5T RAM 8/128GB GARANSI RESMI HUAWE...</td>\n",
       "      <td>E2</td>\n",
       "      <td>4.0</td>\n",
       "      <td>OS</td>\n",
       "      <td>Huawei nova 5T</td>\n",
       "      <td>Kota Surabaya</td>\n",
       "      <td>False</td>\n",
       "      <td>4698500.0</td>\n",
       "      <td>5.0</td>\n",
       "      <td>0.0</td>\n",
       "      <td>0.0</td>\n",
       "      <td>0.0</td>\n",
       "      <td>99.0</td>\n",
       "      <td>42.0</td>\n",
       "      <td>63.0</td>\n",
       "    </tr>\n",
       "    <tr>\n",
       "      <th>4</th>\n",
       "      <td>nokia 3310 reborn</td>\n",
       "      <td>C1</td>\n",
       "      <td>5.0</td>\n",
       "      <td>RM</td>\n",
       "      <td>Nokia 1</td>\n",
       "      <td>Kab. Bangkalan</td>\n",
       "      <td>True</td>\n",
       "      <td>1000000.0</td>\n",
       "      <td>999999.0</td>\n",
       "      <td>0.0</td>\n",
       "      <td>0.0</td>\n",
       "      <td>3.0</td>\n",
       "      <td>100.0</td>\n",
       "      <td>18.0</td>\n",
       "      <td>82.0</td>\n",
       "    </tr>\n",
       "  </tbody>\n",
       "</table>\n",
       "</div>"
      ],
      "text/plain": [
       "                                            sku_name product_id  \\\n",
       "0              HUAWEI NOVA 5T RAM 8GB INTERNAL 128GB         E1   \n",
       "1           Huawei Nova 5T (8GB/128GB) - Crush Green         F1   \n",
       "2  HUAWEI NOVA 5T RAM 8/128 GARANSI RESMI HUAWEI ...         F2   \n",
       "3  HUAWEI NOVA 5T RAM 8/128GB GARANSI RESMI HUAWE...         E2   \n",
       "4                                  nokia 3310 reborn         C1   \n",
       "\n",
       "   merchant_code merchant_badge    product_type  \\\n",
       "0            1.0             PM  Huawei nova 5T   \n",
       "1            2.0             OS  Huawei nova 5T   \n",
       "2            3.0             PM  Huawei nova 5T   \n",
       "3            4.0             OS  Huawei nova 5T   \n",
       "4            5.0             RM         Nokia 1   \n",
       "\n",
       "                     merchant_city    cod      price     stock  daily_gmv  \\\n",
       "0                      Kota Kediri  False  4500000.0       1.0        0.0   \n",
       "1  Kota Administrasi Jakarta Utara  False  4999000.0       5.0        0.0   \n",
       "2  Kota Administrasi Jakarta Barat  False  4589900.0      16.0        0.0   \n",
       "3                    Kota Surabaya  False  4698500.0       5.0        0.0   \n",
       "4                   Kab. Bangkalan   True  1000000.0  999999.0        0.0   \n",
       "\n",
       "   daily_sold  daily_view  rating  total_review  total_sold  \n",
       "0         0.0         0.0    95.0          37.0        74.0  \n",
       "1         0.0         0.0     0.0           0.0         2.0  \n",
       "2         0.0         0.0    96.0          12.0        19.0  \n",
       "3         0.0         0.0    99.0          42.0        63.0  \n",
       "4         0.0         3.0   100.0          18.0        82.0  "
      ]
     },
     "execution_count": 53,
     "metadata": {},
     "output_type": "execute_result"
    }
   ],
   "source": [
    "Sdataset.replace(\"?\", np.nan, inplace = True)\n",
    "Sdataset.head(5)"
   ]
  },
  {
   "cell_type": "code",
   "execution_count": 54,
   "id": "4b173c8e",
   "metadata": {},
   "outputs": [
    {
     "data": {
      "text/plain": [
       "sku_name          1\n",
       "product_id        1\n",
       "merchant_code     8\n",
       "merchant_badge    1\n",
       "product_type      1\n",
       "merchant_city     1\n",
       "cod               1\n",
       "price             1\n",
       "stock             1\n",
       "daily_gmv         1\n",
       "daily_sold        1\n",
       "daily_view        1\n",
       "rating            1\n",
       "total_review      1\n",
       "total_sold        1\n",
       "dtype: int64"
      ]
     },
     "execution_count": 54,
     "metadata": {},
     "output_type": "execute_result"
    }
   ],
   "source": [
    "Sdataset.isnull().sum()"
   ]
  },
  {
   "cell_type": "code",
   "execution_count": 55,
   "id": "41fe291a",
   "metadata": {},
   "outputs": [
    {
     "data": {
      "text/plain": [
       "sku_name          0\n",
       "product_id        0\n",
       "merchant_code     0\n",
       "merchant_badge    0\n",
       "product_type      0\n",
       "merchant_city     0\n",
       "cod               0\n",
       "price             0\n",
       "stock             0\n",
       "daily_gmv         0\n",
       "daily_sold        0\n",
       "daily_view        0\n",
       "rating            0\n",
       "total_review      0\n",
       "total_sold        0\n",
       "dtype: int64"
      ]
     },
     "execution_count": 55,
     "metadata": {},
     "output_type": "execute_result"
    }
   ],
   "source": [
    "Sdataset=Sdataset.dropna()\n",
    "Sdataset.isnull().sum()"
   ]
  },
  {
   "cell_type": "code",
   "execution_count": 56,
   "id": "7902e6a2",
   "metadata": {},
   "outputs": [
    {
     "data": {
      "text/plain": [
       "sku_name           object\n",
       "product_id         object\n",
       "merchant_code     float64\n",
       "merchant_badge     object\n",
       "product_type       object\n",
       "merchant_city      object\n",
       "cod                object\n",
       "price             float64\n",
       "stock             float64\n",
       "daily_gmv         float64\n",
       "daily_sold        float64\n",
       "daily_view        float64\n",
       "rating            float64\n",
       "total_review      float64\n",
       "total_sold        float64\n",
       "dtype: object"
      ]
     },
     "execution_count": 56,
     "metadata": {},
     "output_type": "execute_result"
    }
   ],
   "source": [
    "Sdataset.dtypes"
   ]
  },
  {
   "cell_type": "code",
   "execution_count": 57,
   "id": "e7578269",
   "metadata": {},
   "outputs": [],
   "source": [
    "Sdataset[[\"merchant_code\", \"stock\"]] = Sdataset[[\"merchant_code\", \"stock\"]].astype(\"int64\")\n",
    "Sdataset[[\"daily_gmv\", \"daily_sold\", \"daily_view\"]] = Sdataset[[\"daily_gmv\", \"daily_sold\", \"daily_view\"]].astype(\"int64\")\n",
    "Sdataset[[\"rating\", \"total_review\",\"total_sold\"]] = Sdataset[[\"rating\", \"total_review\",\"total_sold\"]].astype(\"int64\")"
   ]
  },
  {
   "cell_type": "code",
   "execution_count": 58,
   "id": "b496fb77",
   "metadata": {},
   "outputs": [
    {
     "data": {
      "text/plain": [
       "sku_name           object\n",
       "product_id         object\n",
       "merchant_code       int64\n",
       "merchant_badge     object\n",
       "product_type       object\n",
       "merchant_city      object\n",
       "cod                object\n",
       "price             float64\n",
       "stock               int64\n",
       "daily_gmv           int64\n",
       "daily_sold          int64\n",
       "daily_view          int64\n",
       "rating              int64\n",
       "total_review        int64\n",
       "total_sold          int64\n",
       "dtype: object"
      ]
     },
     "execution_count": 58,
     "metadata": {},
     "output_type": "execute_result"
    }
   ],
   "source": [
    "Sdataset.dtypes"
   ]
  },
  {
   "cell_type": "code",
   "execution_count": 59,
   "id": "2dc3cfe5",
   "metadata": {},
   "outputs": [],
   "source": [
    "Sdataset.drop(['product_id','merchant_code'], axis = 1, inplace = True)"
   ]
  },
  {
   "cell_type": "code",
   "execution_count": 60,
   "id": "72673faf",
   "metadata": {},
   "outputs": [
    {
     "data": {
      "text/html": [
       "<div>\n",
       "<style scoped>\n",
       "    .dataframe tbody tr th:only-of-type {\n",
       "        vertical-align: middle;\n",
       "    }\n",
       "\n",
       "    .dataframe tbody tr th {\n",
       "        vertical-align: top;\n",
       "    }\n",
       "\n",
       "    .dataframe thead th {\n",
       "        text-align: right;\n",
       "    }\n",
       "</style>\n",
       "<table border=\"1\" class=\"dataframe\">\n",
       "  <thead>\n",
       "    <tr style=\"text-align: right;\">\n",
       "      <th></th>\n",
       "      <th>price</th>\n",
       "      <th>stock</th>\n",
       "      <th>daily_gmv</th>\n",
       "      <th>daily_sold</th>\n",
       "      <th>daily_view</th>\n",
       "      <th>rating</th>\n",
       "      <th>total_review</th>\n",
       "      <th>total_sold</th>\n",
       "    </tr>\n",
       "  </thead>\n",
       "  <tbody>\n",
       "    <tr>\n",
       "      <th>count</th>\n",
       "      <td>2.600700e+04</td>\n",
       "      <td>26007.000000</td>\n",
       "      <td>2.600700e+04</td>\n",
       "      <td>26007.000000</td>\n",
       "      <td>26007.000000</td>\n",
       "      <td>26007.000000</td>\n",
       "      <td>26007.000000</td>\n",
       "      <td>26007.000000</td>\n",
       "    </tr>\n",
       "    <tr>\n",
       "      <th>mean</th>\n",
       "      <td>3.890975e+06</td>\n",
       "      <td>344569.522513</td>\n",
       "      <td>1.582571e+06</td>\n",
       "      <td>0.737455</td>\n",
       "      <td>58.829238</td>\n",
       "      <td>98.342985</td>\n",
       "      <td>46.354174</td>\n",
       "      <td>152.456608</td>\n",
       "    </tr>\n",
       "    <tr>\n",
       "      <th>std</th>\n",
       "      <td>3.869161e+06</td>\n",
       "      <td>474109.701005</td>\n",
       "      <td>1.603929e+07</td>\n",
       "      <td>7.454425</td>\n",
       "      <td>473.153788</td>\n",
       "      <td>5.452142</td>\n",
       "      <td>91.159704</td>\n",
       "      <td>321.406748</td>\n",
       "    </tr>\n",
       "    <tr>\n",
       "      <th>min</th>\n",
       "      <td>5.350000e+05</td>\n",
       "      <td>0.000000</td>\n",
       "      <td>-2.342700e+08</td>\n",
       "      <td>-82.000000</td>\n",
       "      <td>0.000000</td>\n",
       "      <td>0.000000</td>\n",
       "      <td>0.000000</td>\n",
       "      <td>0.000000</td>\n",
       "    </tr>\n",
       "    <tr>\n",
       "      <th>25%</th>\n",
       "      <td>1.770000e+06</td>\n",
       "      <td>4.000000</td>\n",
       "      <td>0.000000e+00</td>\n",
       "      <td>0.000000</td>\n",
       "      <td>2.000000</td>\n",
       "      <td>98.000000</td>\n",
       "      <td>10.000000</td>\n",
       "      <td>27.000000</td>\n",
       "    </tr>\n",
       "    <tr>\n",
       "      <th>50%</th>\n",
       "      <td>2.599999e+06</td>\n",
       "      <td>37.000000</td>\n",
       "      <td>0.000000e+00</td>\n",
       "      <td>0.000000</td>\n",
       "      <td>5.000000</td>\n",
       "      <td>100.000000</td>\n",
       "      <td>24.000000</td>\n",
       "      <td>63.000000</td>\n",
       "    </tr>\n",
       "    <tr>\n",
       "      <th>75%</th>\n",
       "      <td>4.094950e+06</td>\n",
       "      <td>999972.000000</td>\n",
       "      <td>0.000000e+00</td>\n",
       "      <td>0.000000</td>\n",
       "      <td>21.000000</td>\n",
       "      <td>100.000000</td>\n",
       "      <td>44.000000</td>\n",
       "      <td>144.000000</td>\n",
       "    </tr>\n",
       "    <tr>\n",
       "      <th>max</th>\n",
       "      <td>5.000000e+07</td>\n",
       "      <td>999999.000000</td>\n",
       "      <td>9.415350e+08</td>\n",
       "      <td>441.000000</td>\n",
       "      <td>38993.000000</td>\n",
       "      <td>100.000000</td>\n",
       "      <td>2842.000000</td>\n",
       "      <td>7724.000000</td>\n",
       "    </tr>\n",
       "  </tbody>\n",
       "</table>\n",
       "</div>"
      ],
      "text/plain": [
       "              price          stock     daily_gmv    daily_sold    daily_view  \\\n",
       "count  2.600700e+04   26007.000000  2.600700e+04  26007.000000  26007.000000   \n",
       "mean   3.890975e+06  344569.522513  1.582571e+06      0.737455     58.829238   \n",
       "std    3.869161e+06  474109.701005  1.603929e+07      7.454425    473.153788   \n",
       "min    5.350000e+05       0.000000 -2.342700e+08    -82.000000      0.000000   \n",
       "25%    1.770000e+06       4.000000  0.000000e+00      0.000000      2.000000   \n",
       "50%    2.599999e+06      37.000000  0.000000e+00      0.000000      5.000000   \n",
       "75%    4.094950e+06  999972.000000  0.000000e+00      0.000000     21.000000   \n",
       "max    5.000000e+07  999999.000000  9.415350e+08    441.000000  38993.000000   \n",
       "\n",
       "             rating  total_review    total_sold  \n",
       "count  26007.000000  26007.000000  26007.000000  \n",
       "mean      98.342985     46.354174    152.456608  \n",
       "std        5.452142     91.159704    321.406748  \n",
       "min        0.000000      0.000000      0.000000  \n",
       "25%       98.000000     10.000000     27.000000  \n",
       "50%      100.000000     24.000000     63.000000  \n",
       "75%      100.000000     44.000000    144.000000  \n",
       "max      100.000000   2842.000000   7724.000000  "
      ]
     },
     "execution_count": 60,
     "metadata": {},
     "output_type": "execute_result"
    }
   ],
   "source": [
    "Sdataset.describe()"
   ]
  },
  {
   "cell_type": "code",
   "execution_count": 12,
   "id": "fb431d86",
   "metadata": {},
   "outputs": [
    {
     "data": {
      "text/html": [
       "<div>\n",
       "<style scoped>\n",
       "    .dataframe tbody tr th:only-of-type {\n",
       "        vertical-align: middle;\n",
       "    }\n",
       "\n",
       "    .dataframe tbody tr th {\n",
       "        vertical-align: top;\n",
       "    }\n",
       "\n",
       "    .dataframe thead th {\n",
       "        text-align: right;\n",
       "    }\n",
       "</style>\n",
       "<table border=\"1\" class=\"dataframe\">\n",
       "  <thead>\n",
       "    <tr style=\"text-align: right;\">\n",
       "      <th></th>\n",
       "      <th>sku_name</th>\n",
       "      <th>merchant_badge</th>\n",
       "      <th>product_type</th>\n",
       "      <th>merchant_city</th>\n",
       "      <th>cod</th>\n",
       "    </tr>\n",
       "  </thead>\n",
       "  <tbody>\n",
       "    <tr>\n",
       "      <th>count</th>\n",
       "      <td>26007</td>\n",
       "      <td>26007</td>\n",
       "      <td>26007</td>\n",
       "      <td>26007</td>\n",
       "      <td>26007</td>\n",
       "    </tr>\n",
       "    <tr>\n",
       "      <th>unique</th>\n",
       "      <td>11391</td>\n",
       "      <td>3</td>\n",
       "      <td>361</td>\n",
       "      <td>136</td>\n",
       "      <td>2</td>\n",
       "    </tr>\n",
       "    <tr>\n",
       "      <th>top</th>\n",
       "      <td>Apple Iphone 7 32Gb Garansi Distributor 1 tahun</td>\n",
       "      <td>PM</td>\n",
       "      <td>Realme 6</td>\n",
       "      <td>Kota Administrasi Jakarta Barat</td>\n",
       "      <td>False</td>\n",
       "    </tr>\n",
       "    <tr>\n",
       "      <th>freq</th>\n",
       "      <td>33</td>\n",
       "      <td>20347</td>\n",
       "      <td>2161</td>\n",
       "      <td>4676</td>\n",
       "      <td>25715</td>\n",
       "    </tr>\n",
       "  </tbody>\n",
       "</table>\n",
       "</div>"
      ],
      "text/plain": [
       "                                               sku_name merchant_badge  \\\n",
       "count                                             26007          26007   \n",
       "unique                                            11391              3   \n",
       "top     Apple Iphone 7 32Gb Garansi Distributor 1 tahun             PM   \n",
       "freq                                                 33          20347   \n",
       "\n",
       "       product_type                    merchant_city    cod  \n",
       "count         26007                            26007  26007  \n",
       "unique          361                              136      2  \n",
       "top        Realme 6  Kota Administrasi Jakarta Barat  False  \n",
       "freq           2161                             4676  25715  "
      ]
     },
     "execution_count": 12,
     "metadata": {},
     "output_type": "execute_result"
    }
   ],
   "source": [
    "Sdataset.describe(include=['object'])"
   ]
  },
  {
   "cell_type": "code",
   "execution_count": 13,
   "id": "c5d3eecc",
   "metadata": {},
   "outputs": [
    {
     "data": {
      "text/html": [
       "<div>\n",
       "<style scoped>\n",
       "    .dataframe tbody tr th:only-of-type {\n",
       "        vertical-align: middle;\n",
       "    }\n",
       "\n",
       "    .dataframe tbody tr th {\n",
       "        vertical-align: top;\n",
       "    }\n",
       "\n",
       "    .dataframe thead th {\n",
       "        text-align: right;\n",
       "    }\n",
       "</style>\n",
       "<table border=\"1\" class=\"dataframe\">\n",
       "  <thead>\n",
       "    <tr style=\"text-align: right;\">\n",
       "      <th></th>\n",
       "      <th>price</th>\n",
       "      <th>stock</th>\n",
       "      <th>daily_gmv</th>\n",
       "      <th>daily_sold</th>\n",
       "      <th>daily_view</th>\n",
       "      <th>rating</th>\n",
       "      <th>total_review</th>\n",
       "      <th>total_sold</th>\n",
       "    </tr>\n",
       "  </thead>\n",
       "  <tbody>\n",
       "    <tr>\n",
       "      <th>price</th>\n",
       "      <td>1.000000</td>\n",
       "      <td>0.156706</td>\n",
       "      <td>-0.025671</td>\n",
       "      <td>-0.044618</td>\n",
       "      <td>-0.008936</td>\n",
       "      <td>0.061041</td>\n",
       "      <td>-0.147269</td>\n",
       "      <td>-0.191556</td>\n",
       "    </tr>\n",
       "    <tr>\n",
       "      <th>stock</th>\n",
       "      <td>0.156706</td>\n",
       "      <td>1.000000</td>\n",
       "      <td>-0.063246</td>\n",
       "      <td>-0.064972</td>\n",
       "      <td>-0.075292</td>\n",
       "      <td>0.033286</td>\n",
       "      <td>-0.134122</td>\n",
       "      <td>-0.174839</td>\n",
       "    </tr>\n",
       "    <tr>\n",
       "      <th>daily_gmv</th>\n",
       "      <td>-0.025671</td>\n",
       "      <td>-0.063246</td>\n",
       "      <td>1.000000</td>\n",
       "      <td>0.880633</td>\n",
       "      <td>0.676940</td>\n",
       "      <td>0.003093</td>\n",
       "      <td>0.157915</td>\n",
       "      <td>0.190790</td>\n",
       "    </tr>\n",
       "    <tr>\n",
       "      <th>daily_sold</th>\n",
       "      <td>-0.044618</td>\n",
       "      <td>-0.064972</td>\n",
       "      <td>0.880633</td>\n",
       "      <td>1.000000</td>\n",
       "      <td>0.537999</td>\n",
       "      <td>-0.001377</td>\n",
       "      <td>0.162829</td>\n",
       "      <td>0.232260</td>\n",
       "    </tr>\n",
       "    <tr>\n",
       "      <th>daily_view</th>\n",
       "      <td>-0.008936</td>\n",
       "      <td>-0.075292</td>\n",
       "      <td>0.676940</td>\n",
       "      <td>0.537999</td>\n",
       "      <td>1.000000</td>\n",
       "      <td>-0.008496</td>\n",
       "      <td>0.222010</td>\n",
       "      <td>0.177663</td>\n",
       "    </tr>\n",
       "    <tr>\n",
       "      <th>rating</th>\n",
       "      <td>0.061041</td>\n",
       "      <td>0.033286</td>\n",
       "      <td>0.003093</td>\n",
       "      <td>-0.001377</td>\n",
       "      <td>-0.008496</td>\n",
       "      <td>1.000000</td>\n",
       "      <td>-0.060147</td>\n",
       "      <td>-0.043073</td>\n",
       "    </tr>\n",
       "    <tr>\n",
       "      <th>total_review</th>\n",
       "      <td>-0.147269</td>\n",
       "      <td>-0.134122</td>\n",
       "      <td>0.157915</td>\n",
       "      <td>0.162829</td>\n",
       "      <td>0.222010</td>\n",
       "      <td>-0.060147</td>\n",
       "      <td>1.000000</td>\n",
       "      <td>0.782728</td>\n",
       "    </tr>\n",
       "    <tr>\n",
       "      <th>total_sold</th>\n",
       "      <td>-0.191556</td>\n",
       "      <td>-0.174839</td>\n",
       "      <td>0.190790</td>\n",
       "      <td>0.232260</td>\n",
       "      <td>0.177663</td>\n",
       "      <td>-0.043073</td>\n",
       "      <td>0.782728</td>\n",
       "      <td>1.000000</td>\n",
       "    </tr>\n",
       "  </tbody>\n",
       "</table>\n",
       "</div>"
      ],
      "text/plain": [
       "                 price     stock  daily_gmv  daily_sold  daily_view    rating  \\\n",
       "price         1.000000  0.156706  -0.025671   -0.044618   -0.008936  0.061041   \n",
       "stock         0.156706  1.000000  -0.063246   -0.064972   -0.075292  0.033286   \n",
       "daily_gmv    -0.025671 -0.063246   1.000000    0.880633    0.676940  0.003093   \n",
       "daily_sold   -0.044618 -0.064972   0.880633    1.000000    0.537999 -0.001377   \n",
       "daily_view   -0.008936 -0.075292   0.676940    0.537999    1.000000 -0.008496   \n",
       "rating        0.061041  0.033286   0.003093   -0.001377   -0.008496  1.000000   \n",
       "total_review -0.147269 -0.134122   0.157915    0.162829    0.222010 -0.060147   \n",
       "total_sold   -0.191556 -0.174839   0.190790    0.232260    0.177663 -0.043073   \n",
       "\n",
       "              total_review  total_sold  \n",
       "price            -0.147269   -0.191556  \n",
       "stock            -0.134122   -0.174839  \n",
       "daily_gmv         0.157915    0.190790  \n",
       "daily_sold        0.162829    0.232260  \n",
       "daily_view        0.222010    0.177663  \n",
       "rating           -0.060147   -0.043073  \n",
       "total_review      1.000000    0.782728  \n",
       "total_sold        0.782728    1.000000  "
      ]
     },
     "execution_count": 13,
     "metadata": {},
     "output_type": "execute_result"
    }
   ],
   "source": [
    "Sdataset.corr()"
   ]
  },
  {
   "cell_type": "code",
   "execution_count": 14,
   "id": "b74cb07d",
   "metadata": {},
   "outputs": [
    {
     "data": {
      "image/png": "[encoded data removed]",
      "text/plain": [
       "<Figure size 720x432 with 2 Axes>"
      ]
     },
     "metadata": {
      "needs_background": "light"
     },
     "output_type": "display_data"
    }
   ],
   "source": [
    "plt.figure(figsize=(10,6))\n",
    "crltn=Sdataset.corr()\n",
    "sns.heatmap(crltn,annot=True)\n",
    "plt.show()"
   ]
  },
  {
   "cell_type": "code",
   "execution_count": 15,
   "id": "a6e92d80",
   "metadata": {},
   "outputs": [
    {
     "data": {
      "text/plain": [
       "<AxesSubplot:xlabel='stock', ylabel='price'>"
      ]
     },
     "execution_count": 15,
     "metadata": {},
     "output_type": "execute_result"
    },
    {
     "data": {
      "image/png": "[encoded data removed]",
      "text/plain": [
       "<Figure size 432x288 with 1 Axes>"
      ]
     },
     "metadata": {
      "needs_background": "light"
     },
     "output_type": "display_data"
    }
   ],
   "source": [
    "sns.regplot(x=\"stock\", y=\"price\", data=Sdataset)"
   ]
  },
  {
   "cell_type": "code",
   "execution_count": 16,
   "id": "46bbaa4a",
   "metadata": {},
   "outputs": [
    {
     "name": "stdout",
     "output_type": "stream",
     "text": [
      "The Pearson Correlation Coefficient is 0.15670582514743875  with a P-value of P = 1.2530450526696903e-142\n"
     ]
    }
   ],
   "source": [
    "pearson_coef, p_value = stats.pearsonr(Sdataset['stock'], Sdataset['price'])\n",
    "print(\"The Pearson Correlation Coefficient is\", pearson_coef, \" with a P-value of P =\", p_value)  "
   ]
  },
  {
   "cell_type": "code",
   "execution_count": 17,
   "id": "1505292a",
   "metadata": {},
   "outputs": [
    {
     "data": {
      "text/plain": [
       "<AxesSubplot:xlabel='total_review', ylabel='price'>"
      ]
     },
     "execution_count": 17,
     "metadata": {},
     "output_type": "execute_result"
    },
    {
     "data": {
      "image/png": "[encoded data removed]",
      "text/plain": [
       "<Figure size 432x288 with 1 Axes>"
      ]
     },
     "metadata": {
      "needs_background": "light"
     },
     "output_type": "display_data"
    }
   ],
   "source": [
    "sns.regplot(x=\"total_review\", y=\"price\", data=Sdataset)"
   ]
  },
  {
   "cell_type": "code",
   "execution_count": 18,
   "id": "d4c5dd41",
   "metadata": {},
   "outputs": [
    {
     "name": "stdout",
     "output_type": "stream",
     "text": [
      "The Pearson Correlation Coefficient is -0.14726928178529652  with a P-value of P = 5.085032189186176e-126\n"
     ]
    }
   ],
   "source": [
    "pearson_coef, p_value = stats.pearsonr(Sdataset['total_review'], Sdataset['price'])\n",
    "print(\"The Pearson Correlation Coefficient is\", pearson_coef, \" with a P-value of P =\", p_value)"
   ]
  },
  {
   "cell_type": "code",
   "execution_count": 19,
   "id": "22d4e9a8",
   "metadata": {},
   "outputs": [
    {
     "data": {
      "text/plain": [
       "<AxesSubplot:xlabel='total_sold', ylabel='price'>"
      ]
     },
     "execution_count": 19,
     "metadata": {},
     "output_type": "execute_result"
    },
    {
     "data": {
      "image/png": "[encoded data removed]",
      "text/plain": [
       "<Figure size 432x288 with 1 Axes>"
      ]
     },
     "metadata": {
      "needs_background": "light"
     },
     "output_type": "display_data"
    }
   ],
   "source": [
    "sns.regplot(x=\"total_sold\", y=\"price\", data=Sdataset)"
   ]
  },
  {
   "cell_type": "code",
   "execution_count": 20,
   "id": "cc5295e7",
   "metadata": {},
   "outputs": [
    {
     "name": "stdout",
     "output_type": "stream",
     "text": [
      "The Pearson Correlation Coefficient is -0.19155561787307618  with a P-value of P = 2.0377233082803473e-213\n"
     ]
    }
   ],
   "source": [
    "pearson_coef, p_value = stats.pearsonr(Sdataset['total_sold'], Sdataset['price'])\n",
    "print(\"The Pearson Correlation Coefficient is\", pearson_coef, \" with a P-value of P =\", p_value) "
   ]
  },
  {
   "cell_type": "code",
   "execution_count": 21,
   "id": "b750df3d",
   "metadata": {},
   "outputs": [
    {
     "data": {
      "text/plain": [
       "<AxesSubplot:xlabel='daily_gmv', ylabel='price'>"
      ]
     },
     "execution_count": 21,
     "metadata": {},
     "output_type": "execute_result"
    },
    {
     "data": {
      "image/png": "[encoded data removed]",
      "text/plain": [
       "<Figure size 432x288 with 1 Axes>"
      ]
     },
     "metadata": {
      "needs_background": "light"
     },
     "output_type": "display_data"
    }
   ],
   "source": [
    "sns.regplot(x=\"daily_gmv\", y=\"price\", data=Sdataset)"
   ]
  },
  {
   "cell_type": "code",
   "execution_count": 22,
   "id": "dfd9bd8e",
   "metadata": {},
   "outputs": [
    {
     "name": "stdout",
     "output_type": "stream",
     "text": [
      "The Pearson Correlation Coefficient is -0.025670532824444488  with a P-value of P = 3.4686785341272326e-05\n"
     ]
    }
   ],
   "source": [
    "pearson_coef, p_value = stats.pearsonr(Sdataset['daily_gmv'], Sdataset['price'])\n",
    "print(\"The Pearson Correlation Coefficient is\", pearson_coef, \" with a P-value of P =\", p_value)"
   ]
  },
  {
   "cell_type": "code",
   "execution_count": 23,
   "id": "122d46bf",
   "metadata": {},
   "outputs": [
    {
     "data": {
      "text/plain": [
       "<AxesSubplot:xlabel='daily_sold', ylabel='price'>"
      ]
     },
     "execution_count": 23,
     "metadata": {},
     "output_type": "execute_result"
    },
    {
     "data": {
      "image/png": "[encoded data removed]",
      "text/plain": [
       "<Figure size 432x288 with 1 Axes>"
      ]
     },
     "metadata": {
      "needs_background": "light"
     },
     "output_type": "display_data"
    }
   ],
   "source": [
    "sns.regplot(x=\"daily_sold\", y=\"price\", data=Sdataset)"
   ]
  },
  {
   "cell_type": "code",
   "execution_count": 24,
   "id": "0125771c",
   "metadata": {},
   "outputs": [
    {
     "name": "stdout",
     "output_type": "stream",
     "text": [
      "The Pearson Correlation Coefficient is -0.044618341905711595  with a P-value of P = 6.078981827468378e-13\n"
     ]
    }
   ],
   "source": [
    "pearson_coef, p_value = stats.pearsonr(Sdataset['daily_sold'], Sdataset['price'])\n",
    "print(\"The Pearson Correlation Coefficient is\", pearson_coef, \" with a P-value of P =\", p_value) "
   ]
  },
  {
   "cell_type": "code",
   "execution_count": 25,
   "id": "0335aaea",
   "metadata": {},
   "outputs": [
    {
     "data": {
      "text/plain": [
       "<AxesSubplot:xlabel='daily_view', ylabel='price'>"
      ]
     },
     "execution_count": 25,
     "metadata": {},
     "output_type": "execute_result"
    },
    {
     "data": {
      "image/png": "[encoded data removed]",
      "text/plain": [
       "<Figure size 432x288 with 1 Axes>"
      ]
     },
     "metadata": {
      "needs_background": "light"
     },
     "output_type": "display_data"
    }
   ],
   "source": [
    "sns.regplot(x=\"daily_view\", y=\"price\", data=Sdataset)"
   ]
  },
  {
   "cell_type": "code",
   "execution_count": 26,
   "id": "387099cb",
   "metadata": {},
   "outputs": [
    {
     "name": "stdout",
     "output_type": "stream",
     "text": [
      "The Pearson Correlation Coefficient is -0.008936479721898507  with a P-value of P = 0.14955148355665476\n"
     ]
    }
   ],
   "source": [
    "pearson_coef, p_value = stats.pearsonr(Sdataset['daily_view'], Sdataset['price'])\n",
    "print(\"The Pearson Correlation Coefficient is\", pearson_coef, \" with a P-value of P =\", p_value) "
   ]
  },
  {
   "cell_type": "code",
   "execution_count": 27,
   "id": "c9e60ce6",
   "metadata": {},
   "outputs": [
    {
     "data": {
      "text/plain": [
       "<AxesSubplot:xlabel='rating', ylabel='price'>"
      ]
     },
     "execution_count": 27,
     "metadata": {},
     "output_type": "execute_result"
    },
    {
     "data": {
      "image/png": "[encoded data removed]",
      "text/plain": [
       "<Figure size 432x288 with 1 Axes>"
      ]
     },
     "metadata": {
      "needs_background": "light"
     },
     "output_type": "display_data"
    }
   ],
   "source": [
    "sns.regplot(x=\"rating\", y=\"price\", data=Sdataset)"
   ]
  },
  {
   "cell_type": "code",
   "execution_count": 28,
   "id": "72c2448d",
   "metadata": {},
   "outputs": [
    {
     "name": "stdout",
     "output_type": "stream",
     "text": [
      "The Pearson Correlation Coefficient is 0.06104145277435303  with a P-value of P = 6.674139159782571e-23\n"
     ]
    }
   ],
   "source": [
    "pearson_coef, p_value = stats.pearsonr(Sdataset['rating'], Sdataset['price'])\n",
    "print(\"The Pearson Correlation Coefficient is\", pearson_coef, \" with a P-value of P =\", p_value) "
   ]
  },
  {
   "cell_type": "code",
   "execution_count": 29,
   "id": "f94aa020",
   "metadata": {},
   "outputs": [
    {
     "data": {
      "text/plain": [
       "<function matplotlib.pyplot.show(close=None, block=None)>"
      ]
     },
     "execution_count": 29,
     "metadata": {},
     "output_type": "execute_result"
    },
    {
     "data": {
      "text/plain": [
       "<Figure size 720x864 with 0 Axes>"
      ]
     },
     "metadata": {},
     "output_type": "display_data"
    },
    {
     "data": {
      "image/png": "[encoded data removed]",
      "text/plain": [
       "<Figure size 720x360 with 1 Axes>"
      ]
     },
     "metadata": {
      "needs_background": "light"
     },
     "output_type": "display_data"
    }
   ],
   "source": [
    "plt.figure(figsize=(10,12))\n",
    "sns.catplot(x=\"merchant_badge\", y=\"price\", data=Sdataset,height=5, aspect=2)\n",
    "plt.xticks(rotation=90)\n",
    "plt.show"
   ]
  },
  {
   "cell_type": "code",
   "execution_count": 30,
   "id": "849bb035",
   "metadata": {},
   "outputs": [
    {
     "data": {
      "text/plain": [
       "<function matplotlib.pyplot.show(close=None, block=None)>"
      ]
     },
     "execution_count": 30,
     "metadata": {},
     "output_type": "execute_result"
    },
    {
     "data": {
      "text/plain": [
       "<Figure size 720x864 with 0 Axes>"
      ]
     },
     "metadata": {},
     "output_type": "display_data"
    },
    {
     "data": {
      "image/png": "[encoded data removed]",
      "text/plain": [
       "<Figure size 1296x432 with 1 Axes>"
      ]
     },
     "metadata": {
      "needs_background": "light"
     },
     "output_type": "display_data"
    }
   ],
   "source": [
    "plt.figure(figsize=(10,12))\n",
    "sns.catplot(x=\"cod\", y=\"price\", data=Sdataset,height=6, aspect=3)\n",
    "plt.xticks(rotation=90)\n",
    "plt.show"
   ]
  },
  {
   "cell_type": "code",
   "execution_count": 61,
   "id": "eafdd376",
   "metadata": {},
   "outputs": [],
   "source": [
    "# Hdataset['price'] = Hdataset['price']/Hdataset['price'].max()\n",
    "# Hdataset['sqft_living'] = Hdataset['sqft_living']/Hdataset['sqft_living'].max()\n",
    "# Hdataset['sqft_above'] = Hdataset['sqft_above']/Hdataset['sqft_above'].max()\n",
    "# Hdataset['sqft_basement'] = Hdataset['sqft_basement']/Hdataset['sqft_basement'].max()\n",
    "# Hdataset['sqft_lot'] = Hdataset['sqft_lot']/Hdataset['sqft_lot'].max()"
   ]
  },
  {
   "cell_type": "code",
   "execution_count": 62,
   "id": "320adef6",
   "metadata": {},
   "outputs": [],
   "source": [
    "from sklearn.preprocessing import LabelEncoder\n",
    "\n",
    "labelencoder = LabelEncoder()\n",
    "Sdataset.sku_name = labelencoder.fit_transform(Sdataset.sku_name)\n",
    "Sdataset.product_type = labelencoder.fit_transform(Sdataset.product_type)\n",
    "Sdataset.cod = labelencoder.fit_transform(Sdataset.cod)\n",
    "Sdataset.merchant_badge = labelencoder.fit_transform(Sdataset.merchant_badge)"
   ]
  },
  {
   "cell_type": "code",
   "execution_count": 63,
   "id": "4ca98f39",
   "metadata": {},
   "outputs": [],
   "source": [
    "# # merge data frame \"df\" and \"dummy_variable_1\" \n",
    "# Sdataset = pd.concat([Sdataset, Encode1], axis=1)\n",
    "\n",
    "# # drop original column \"fuel-type\" from \"df\"\n",
    "# Sdataset.drop(\"sku_name\", axis = 1, inplace=True)"
   ]
  },
  {
   "cell_type": "code",
   "execution_count": 64,
   "id": "8f878ab5",
   "metadata": {},
   "outputs": [],
   "source": [
    "# Encode2 = pd.get_dummies(Sdataset[\"product_type\"])\n",
    "# Encode2.head()"
   ]
  },
  {
   "cell_type": "code",
   "execution_count": 65,
   "id": "f02c89c6",
   "metadata": {},
   "outputs": [],
   "source": [
    "# # merge data frame \"df\" and \"dummy_variable_1\" \n",
    "# Sdataset = pd.concat([Sdataset, Encode2], axis=1)\n",
    "\n",
    "# # drop original column \"fuel-type\" from \"df\"\n",
    "# Sdataset.drop(\"product_type\", axis = 1, inplace=True)"
   ]
  },
  {
   "cell_type": "code",
   "execution_count": 66,
   "id": "a563f54d",
   "metadata": {},
   "outputs": [],
   "source": [
    "# Encode3 = pd.get_dummies(Sdataset[\"cod\"])\n",
    "# Encode3.head()"
   ]
  },
  {
   "cell_type": "code",
   "execution_count": 67,
   "id": "357c005f",
   "metadata": {},
   "outputs": [],
   "source": [
    "# # merge data frame \"df\" and \"dummy_variable_1\" \n",
    "# Sdataset = pd.concat([Sdataset, Encode3], axis=1)\n",
    "\n",
    "# # drop original column \"fuel-type\" from \"df\"\n",
    "# Sdataset.drop(\"cod\", axis = 1, inplace=True)\n",
    "Sdataset.drop(['merchant_city','daily_view'], axis = 1, inplace = True)"
   ]
  },
  {
   "cell_type": "code",
   "execution_count": 68,
   "id": "15b9ddaa",
   "metadata": {},
   "outputs": [
    {
     "data": {
      "text/html": [
       "<div>\n",
       "<style scoped>\n",
       "    .dataframe tbody tr th:only-of-type {\n",
       "        vertical-align: middle;\n",
       "    }\n",
       "\n",
       "    .dataframe tbody tr th {\n",
       "        vertical-align: top;\n",
       "    }\n",
       "\n",
       "    .dataframe thead th {\n",
       "        text-align: right;\n",
       "    }\n",
       "</style>\n",
       "<table border=\"1\" class=\"dataframe\">\n",
       "  <thead>\n",
       "    <tr style=\"text-align: right;\">\n",
       "      <th></th>\n",
       "      <th>sku_name</th>\n",
       "      <th>merchant_badge</th>\n",
       "      <th>product_type</th>\n",
       "      <th>cod</th>\n",
       "      <th>price</th>\n",
       "      <th>stock</th>\n",
       "      <th>daily_gmv</th>\n",
       "      <th>daily_sold</th>\n",
       "      <th>rating</th>\n",
       "      <th>total_review</th>\n",
       "      <th>total_sold</th>\n",
       "    </tr>\n",
       "  </thead>\n",
       "  <tbody>\n",
       "    <tr>\n",
       "      <th>0</th>\n",
       "      <td>1263</td>\n",
       "      <td>1</td>\n",
       "      <td>87</td>\n",
       "      <td>0</td>\n",
       "      <td>4500000.0</td>\n",
       "      <td>1</td>\n",
       "      <td>0</td>\n",
       "      <td>0</td>\n",
       "      <td>95</td>\n",
       "      <td>37</td>\n",
       "      <td>74</td>\n",
       "    </tr>\n",
       "    <tr>\n",
       "      <th>1</th>\n",
       "      <td>1425</td>\n",
       "      <td>0</td>\n",
       "      <td>87</td>\n",
       "      <td>0</td>\n",
       "      <td>4999000.0</td>\n",
       "      <td>5</td>\n",
       "      <td>0</td>\n",
       "      <td>0</td>\n",
       "      <td>0</td>\n",
       "      <td>0</td>\n",
       "      <td>2</td>\n",
       "    </tr>\n",
       "    <tr>\n",
       "      <th>2</th>\n",
       "      <td>1258</td>\n",
       "      <td>1</td>\n",
       "      <td>87</td>\n",
       "      <td>0</td>\n",
       "      <td>4589900.0</td>\n",
       "      <td>16</td>\n",
       "      <td>0</td>\n",
       "      <td>0</td>\n",
       "      <td>96</td>\n",
       "      <td>12</td>\n",
       "      <td>19</td>\n",
       "    </tr>\n",
       "    <tr>\n",
       "      <th>3</th>\n",
       "      <td>1262</td>\n",
       "      <td>0</td>\n",
       "      <td>87</td>\n",
       "      <td>0</td>\n",
       "      <td>4698500.0</td>\n",
       "      <td>5</td>\n",
       "      <td>0</td>\n",
       "      <td>0</td>\n",
       "      <td>99</td>\n",
       "      <td>42</td>\n",
       "      <td>63</td>\n",
       "    </tr>\n",
       "    <tr>\n",
       "      <th>4</th>\n",
       "      <td>10610</td>\n",
       "      <td>2</td>\n",
       "      <td>105</td>\n",
       "      <td>1</td>\n",
       "      <td>1000000.0</td>\n",
       "      <td>999999</td>\n",
       "      <td>0</td>\n",
       "      <td>0</td>\n",
       "      <td>100</td>\n",
       "      <td>18</td>\n",
       "      <td>82</td>\n",
       "    </tr>\n",
       "  </tbody>\n",
       "</table>\n",
       "</div>"
      ],
      "text/plain": [
       "   sku_name  merchant_badge  product_type  cod      price   stock  daily_gmv  \\\n",
       "0      1263               1            87    0  4500000.0       1          0   \n",
       "1      1425               0            87    0  4999000.0       5          0   \n",
       "2      1258               1            87    0  4589900.0      16          0   \n",
       "3      1262               0            87    0  4698500.0       5          0   \n",
       "4     10610               2           105    1  1000000.0  999999          0   \n",
       "\n",
       "   daily_sold  rating  total_review  total_sold  \n",
       "0           0      95            37          74  \n",
       "1           0       0             0           2  \n",
       "2           0      96            12          19  \n",
       "3           0      99            42          63  \n",
       "4           0     100            18          82  "
      ]
     },
     "execution_count": 68,
     "metadata": {},
     "output_type": "execute_result"
    }
   ],
   "source": [
    "Sdataset.head()"
   ]
  },
  {
   "cell_type": "code",
   "execution_count": 69,
   "id": "15a3974f",
   "metadata": {},
   "outputs": [
    {
     "data": {
      "text/html": [
       "<div>\n",
       "<style scoped>\n",
       "    .dataframe tbody tr th:only-of-type {\n",
       "        vertical-align: middle;\n",
       "    }\n",
       "\n",
       "    .dataframe tbody tr th {\n",
       "        vertical-align: top;\n",
       "    }\n",
       "\n",
       "    .dataframe thead th {\n",
       "        text-align: right;\n",
       "    }\n",
       "</style>\n",
       "<table border=\"1\" class=\"dataframe\">\n",
       "  <thead>\n",
       "    <tr style=\"text-align: right;\">\n",
       "      <th></th>\n",
       "      <th>sku_name</th>\n",
       "      <th>merchant_badge</th>\n",
       "      <th>product_type</th>\n",
       "      <th>cod</th>\n",
       "      <th>stock</th>\n",
       "      <th>daily_gmv</th>\n",
       "      <th>daily_sold</th>\n",
       "      <th>rating</th>\n",
       "      <th>total_review</th>\n",
       "      <th>total_sold</th>\n",
       "    </tr>\n",
       "  </thead>\n",
       "  <tbody>\n",
       "    <tr>\n",
       "      <th>0</th>\n",
       "      <td>1263</td>\n",
       "      <td>1</td>\n",
       "      <td>87</td>\n",
       "      <td>0</td>\n",
       "      <td>1</td>\n",
       "      <td>0</td>\n",
       "      <td>0</td>\n",
       "      <td>95</td>\n",
       "      <td>37</td>\n",
       "      <td>74</td>\n",
       "    </tr>\n",
       "    <tr>\n",
       "      <th>1</th>\n",
       "      <td>1425</td>\n",
       "      <td>0</td>\n",
       "      <td>87</td>\n",
       "      <td>0</td>\n",
       "      <td>5</td>\n",
       "      <td>0</td>\n",
       "      <td>0</td>\n",
       "      <td>0</td>\n",
       "      <td>0</td>\n",
       "      <td>2</td>\n",
       "    </tr>\n",
       "    <tr>\n",
       "      <th>2</th>\n",
       "      <td>1258</td>\n",
       "      <td>1</td>\n",
       "      <td>87</td>\n",
       "      <td>0</td>\n",
       "      <td>16</td>\n",
       "      <td>0</td>\n",
       "      <td>0</td>\n",
       "      <td>96</td>\n",
       "      <td>12</td>\n",
       "      <td>19</td>\n",
       "    </tr>\n",
       "    <tr>\n",
       "      <th>3</th>\n",
       "      <td>1262</td>\n",
       "      <td>0</td>\n",
       "      <td>87</td>\n",
       "      <td>0</td>\n",
       "      <td>5</td>\n",
       "      <td>0</td>\n",
       "      <td>0</td>\n",
       "      <td>99</td>\n",
       "      <td>42</td>\n",
       "      <td>63</td>\n",
       "    </tr>\n",
       "    <tr>\n",
       "      <th>4</th>\n",
       "      <td>10610</td>\n",
       "      <td>2</td>\n",
       "      <td>105</td>\n",
       "      <td>1</td>\n",
       "      <td>999999</td>\n",
       "      <td>0</td>\n",
       "      <td>0</td>\n",
       "      <td>100</td>\n",
       "      <td>18</td>\n",
       "      <td>82</td>\n",
       "    </tr>\n",
       "    <tr>\n",
       "      <th>...</th>\n",
       "      <td>...</td>\n",
       "      <td>...</td>\n",
       "      <td>...</td>\n",
       "      <td>...</td>\n",
       "      <td>...</td>\n",
       "      <td>...</td>\n",
       "      <td>...</td>\n",
       "      <td>...</td>\n",
       "      <td>...</td>\n",
       "      <td>...</td>\n",
       "    </tr>\n",
       "    <tr>\n",
       "      <th>26009</th>\n",
       "      <td>791</td>\n",
       "      <td>0</td>\n",
       "      <td>48</td>\n",
       "      <td>0</td>\n",
       "      <td>5</td>\n",
       "      <td>0</td>\n",
       "      <td>0</td>\n",
       "      <td>96</td>\n",
       "      <td>99</td>\n",
       "      <td>262</td>\n",
       "    </tr>\n",
       "    <tr>\n",
       "      <th>26010</th>\n",
       "      <td>802</td>\n",
       "      <td>0</td>\n",
       "      <td>48</td>\n",
       "      <td>0</td>\n",
       "      <td>9</td>\n",
       "      <td>4090000</td>\n",
       "      <td>2</td>\n",
       "      <td>98</td>\n",
       "      <td>16</td>\n",
       "      <td>29</td>\n",
       "    </tr>\n",
       "    <tr>\n",
       "      <th>26011</th>\n",
       "      <td>805</td>\n",
       "      <td>0</td>\n",
       "      <td>48</td>\n",
       "      <td>0</td>\n",
       "      <td>5</td>\n",
       "      <td>0</td>\n",
       "      <td>0</td>\n",
       "      <td>98</td>\n",
       "      <td>123</td>\n",
       "      <td>393</td>\n",
       "    </tr>\n",
       "    <tr>\n",
       "      <th>26012</th>\n",
       "      <td>757</td>\n",
       "      <td>0</td>\n",
       "      <td>48</td>\n",
       "      <td>0</td>\n",
       "      <td>10</td>\n",
       "      <td>4170000</td>\n",
       "      <td>2</td>\n",
       "      <td>96</td>\n",
       "      <td>48</td>\n",
       "      <td>126</td>\n",
       "    </tr>\n",
       "    <tr>\n",
       "      <th>26013</th>\n",
       "      <td>757</td>\n",
       "      <td>0</td>\n",
       "      <td>48</td>\n",
       "      <td>0</td>\n",
       "      <td>15</td>\n",
       "      <td>12510000</td>\n",
       "      <td>6</td>\n",
       "      <td>96</td>\n",
       "      <td>47</td>\n",
       "      <td>121</td>\n",
       "    </tr>\n",
       "  </tbody>\n",
       "</table>\n",
       "<p>26007 rows × 10 columns</p>\n",
       "</div>"
      ],
      "text/plain": [
       "       sku_name  merchant_badge  product_type  cod   stock  daily_gmv  \\\n",
       "0          1263               1            87    0       1          0   \n",
       "1          1425               0            87    0       5          0   \n",
       "2          1258               1            87    0      16          0   \n",
       "3          1262               0            87    0       5          0   \n",
       "4         10610               2           105    1  999999          0   \n",
       "...         ...             ...           ...  ...     ...        ...   \n",
       "26009       791               0            48    0       5          0   \n",
       "26010       802               0            48    0       9    4090000   \n",
       "26011       805               0            48    0       5          0   \n",
       "26012       757               0            48    0      10    4170000   \n",
       "26013       757               0            48    0      15   12510000   \n",
       "\n",
       "       daily_sold  rating  total_review  total_sold  \n",
       "0               0      95            37          74  \n",
       "1               0       0             0           2  \n",
       "2               0      96            12          19  \n",
       "3               0      99            42          63  \n",
       "4               0     100            18          82  \n",
       "...           ...     ...           ...         ...  \n",
       "26009           0      96            99         262  \n",
       "26010           2      98            16          29  \n",
       "26011           0      98           123         393  \n",
       "26012           2      96            48         126  \n",
       "26013           6      96            47         121  \n",
       "\n",
       "[26007 rows x 10 columns]"
      ]
     },
     "execution_count": 69,
     "metadata": {},
     "output_type": "execute_result"
    }
   ],
   "source": [
    "x=Sdataset.iloc[:,0:11]\n",
    "x.drop(['price'], axis = 1, inplace = True)\n",
    "x"
   ]
  },
  {
   "cell_type": "code",
   "execution_count": 70,
   "id": "6537dc35",
   "metadata": {},
   "outputs": [
    {
     "data": {
      "text/plain": [
       "0        4500000.0\n",
       "1        4999000.0\n",
       "2        4589900.0\n",
       "3        4698500.0\n",
       "4        1000000.0\n",
       "           ...    \n",
       "26009    2300000.0\n",
       "26010    2045000.0\n",
       "26011    1550000.0\n",
       "26012    2085000.0\n",
       "26013    2085000.0\n",
       "Name: price, Length: 26007, dtype: float64"
      ]
     },
     "execution_count": 70,
     "metadata": {},
     "output_type": "execute_result"
    }
   ],
   "source": [
    "y=Sdataset.iloc[:,4]\n",
    "y"
   ]
  },
  {
   "cell_type": "code",
   "execution_count": 71,
   "id": "483d3e5d",
   "metadata": {},
   "outputs": [],
   "source": [
    "lr = LinearRegression()"
   ]
  },
  {
   "cell_type": "code",
   "execution_count": 72,
   "id": "c79066c8",
   "metadata": {},
   "outputs": [],
   "source": [
    "from sklearn.model_selection import train_test_split\n",
    "x_train, x_test, y_train, y_test = train_test_split(x, y, test_size = 0.3, random_state = 0)"
   ]
  },
  {
   "cell_type": "code",
   "execution_count": 73,
   "id": "696e46e4",
   "metadata": {},
   "outputs": [],
   "source": [
    "model=lr.fit(x_train,y_train)"
   ]
  },
  {
   "cell_type": "code",
   "execution_count": 74,
   "id": "51b37949",
   "metadata": {},
   "outputs": [],
   "source": [
    "y_predict = lr.predict(x_test)"
   ]
  },
  {
   "cell_type": "code",
   "execution_count": 75,
   "id": "3f0e392e",
   "metadata": {},
   "outputs": [
    {
     "name": "stdout",
     "output_type": "stream",
     "text": [
      "The R-square for Multiple Linear regression is:  0.26070662359146746\n"
     ]
    }
   ],
   "source": [
    "R1=lr.score(x_train,y_train)\n",
    "print('The R-square for Multiple Linear regression is: ',R1)"
   ]
  },
  {
   "cell_type": "code",
   "execution_count": 77,
   "id": "44c28f91",
   "metadata": {},
   "outputs": [
    {
     "name": "stdout",
     "output_type": "stream",
     "text": [
      "The mean absolute error for Multiple Linear Regression:  2205445.2304134225\n"
     ]
    }
   ],
   "source": [
    "mae1=mean_absolute_error(y_test, y_predict)\n",
    "print('The mean absolute error for Multiple Linear Regression: ',mae1)"
   ]
  },
  {
   "cell_type": "code",
   "execution_count": 78,
   "id": "9e25a8bc",
   "metadata": {},
   "outputs": [
    {
     "data": {
      "image/png": "[encoded data removed]",
      "text/plain": [
       "<Figure size 720x432 with 1 Axes>"
      ]
     },
     "metadata": {
      "needs_background": "light"
     },
     "output_type": "display_data"
    }
   ],
   "source": [
    "plt.figure(figsize=(10,6))\n",
    "\n",
    "ax1 = sns.distplot(y_test, hist=False, color=\"r\", label=\"Actual Value\")\n",
    "sns.distplot(y_predict, hist=False, color=\"b\", label=\"Fitted Values\" , ax=ax1)\n",
    "\n",
    "plt.title('Actual vs Fitted Values for Price')\n",
    "plt.xlabel('Price (in dollars)')\n",
    "plt.ylabel('Proportion of Mobiles')\n",
    "\n",
    "plt.show()\n",
    "plt.close()"
   ]
  },
  {
   "cell_type": "code",
   "execution_count": 79,
   "id": "0352ff5d",
   "metadata": {},
   "outputs": [],
   "source": [
    "rfr = RandomForestRegressor()\n",
    "model=rfr.fit(x_train,y_train)"
   ]
  },
  {
   "cell_type": "code",
   "execution_count": 80,
   "id": "c95cc06e",
   "metadata": {},
   "outputs": [],
   "source": [
    "y_predict2 = rfr.predict(x_test)"
   ]
  },
  {
   "cell_type": "code",
   "execution_count": 81,
   "id": "3062e49a",
   "metadata": {},
   "outputs": [
    {
     "name": "stdout",
     "output_type": "stream",
     "text": [
      "The R-square for Random Forest is:  0.9905787363575557\n"
     ]
    }
   ],
   "source": [
    "R2= rfr.score(x_train,y_train)\n",
    "print('The R-square for Random Forest is: ',R2)"
   ]
  },
  {
   "cell_type": "code",
   "execution_count": 83,
   "id": "698ca876",
   "metadata": {},
   "outputs": [
    {
     "name": "stdout",
     "output_type": "stream",
     "text": [
      "The mean absolute error for Random Forest:  363099.84477351373\n"
     ]
    }
   ],
   "source": [
    "mae2=mean_absolute_error(y_test, y_predict2)\n",
    "print('The mean absolute error for Random Forest: ',mae2)"
   ]
  },
  {
   "cell_type": "code",
   "execution_count": 84,
   "id": "0ed18e68",
   "metadata": {},
   "outputs": [
    {
     "data": {
      "image/png": "[encoded data removed]",
      "text/plain": [
       "<Figure size 720x432 with 1 Axes>"
      ]
     },
     "metadata": {
      "needs_background": "light"
     },
     "output_type": "display_data"
    }
   ],
   "source": [
    "plt.figure(figsize=(10,6))\n",
    "\n",
    "ax1 = sns.distplot(y_test, hist=False, color=\"r\", label=\"Actual Value\")\n",
    "sns.distplot(y_predict2, hist=False, color=\"b\", label=\"Fitted Values\" , ax=ax1)\n",
    "\n",
    "plt.title('Actual vs Fitted Values for Price')\n",
    "plt.xlabel('Price (in dollars)')\n",
    "plt.ylabel('Proportion of Mobiles')\n",
    "\n",
    "plt.show()\n",
    "plt.close()"
   ]
  },
  {
   "cell_type": "code",
   "execution_count": 85,
   "id": "79fc7f5b",
   "metadata": {},
   "outputs": [],
   "source": [
    "models = [('Random Forest', R2, mae2),\n",
    "          ('Multiple Linear Regression', R1,mae1),\n",
    "         ]"
   ]
  },
  {
   "cell_type": "code",
   "execution_count": 86,
   "id": "cf58468f",
   "metadata": {},
   "outputs": [
    {
     "data": {
      "text/html": [
       "<div>\n",
       "<style scoped>\n",
       "    .dataframe tbody tr th:only-of-type {\n",
       "        vertical-align: middle;\n",
       "    }\n",
       "\n",
       "    .dataframe tbody tr th {\n",
       "        vertical-align: top;\n",
       "    }\n",
       "\n",
       "    .dataframe thead th {\n",
       "        text-align: right;\n",
       "    }\n",
       "</style>\n",
       "<table border=\"1\" class=\"dataframe\">\n",
       "  <thead>\n",
       "    <tr style=\"text-align: right;\">\n",
       "      <th></th>\n",
       "      <th>Model</th>\n",
       "      <th>R-Square</th>\n",
       "      <th>Mean absolute error</th>\n",
       "    </tr>\n",
       "  </thead>\n",
       "  <tbody>\n",
       "    <tr>\n",
       "      <th>0</th>\n",
       "      <td>Random Forest</td>\n",
       "      <td>0.990579</td>\n",
       "      <td>3.630998e+05</td>\n",
       "    </tr>\n",
       "    <tr>\n",
       "      <th>1</th>\n",
       "      <td>Multiple Linear Regression</td>\n",
       "      <td>0.260707</td>\n",
       "      <td>2.205445e+06</td>\n",
       "    </tr>\n",
       "  </tbody>\n",
       "</table>\n",
       "</div>"
      ],
      "text/plain": [
       "                        Model  R-Square  Mean absolute error\n",
       "0               Random Forest  0.990579         3.630998e+05\n",
       "1  Multiple Linear Regression  0.260707         2.205445e+06"
      ]
     },
     "execution_count": 86,
     "metadata": {},
     "output_type": "execute_result"
    }
   ],
   "source": [
    "pred = pd.DataFrame(data = models, columns=['Model', 'R-Square', 'Mean absolute error'])\n",
    "pred"
   ]
  },
  {
   "cell_type": "code",
   "execution_count": 87,
   "id": "2bcc8e18",
   "metadata": {},
   "outputs": [
    {
     "data": {
      "image/png": "[encoded data removed]",
      "text/plain": [
       "<Figure size 720x360 with 1 Axes>"
      ]
     },
     "metadata": {
      "needs_background": "light"
     },
     "output_type": "display_data"
    }
   ],
   "source": [
    "pred.sort_values(by=['R-Square'], ascending=False, inplace=True)\n",
    "\n",
    "f, axes = plt.subplots(1,figsize=(10,5))\n",
    "\n",
    "sns.barplot(x='R-Square', y='Model', data = pred, palette='Greens_d', ax = axes)\n",
    "#axes[0].set(xlabel='Region', ylabel='Charges')\n",
    "axes.set_xlabel('R square', size=12)\n",
    "axes.set_ylabel('Model')\n",
    "axes.set_xlim(0,1.0)\n",
    "axes.set_xticks(np.arange(0, 1.1, 0.1))\n",
    "\n",
    "plt.show()"
   ]
  },
  {
   "cell_type": "code",
   "execution_count": 90,
   "id": "c0eab981",
   "metadata": {},
   "outputs": [
    {
     "data": {
      "image/png": "[encoded data removed]",
      "text/plain": [
       "<Figure size 360x504 with 1 Axes>"
      ]
     },
     "metadata": {
      "needs_background": "light"
     },
     "output_type": "display_data"
    }
   ],
   "source": [
    "pred.sort_values(by=(['Mean absolute error']), ascending=False, inplace=True)\n",
    "\n",
    "f, axe = plt.subplots(1,1, figsize=(5,7))\n",
    "sns.barplot(x = pred['Model'], y=pred['Mean absolute error'], ax = axe)\n",
    "axe.set_xlabel('Mean Absolute Error', size=20)\n",
    "axe.set_ylabel('Model', size=20)\n",
    "\n",
    "plt.show()"
   ]
  },
  {
   "cell_type": "code",
   "execution_count": null,
   "id": "971ff3a2",
   "metadata": {},
   "outputs": [],
   "source": []
  }
 ],
 "metadata": {
  "kernelspec": {
   "display_name": "Python 3 (ipykernel)",
   "language": "python",
   "name": "python3"
  },
  "language_info": {
   "codemirror_mode": {
    "name": "ipython",
    "version": 3
   },
   "file_extension": ".py",
   "mimetype": "text/x-python",
   "name": "python",
   "nbconvert_exporter": "python",
   "pygments_lexer": "ipython3",
   "version": "3.9.7"
  }
 },
 "nbformat": 4,
 "nbformat_minor": 5
}
